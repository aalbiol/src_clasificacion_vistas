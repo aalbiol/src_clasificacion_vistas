{
 "cells": [
  {
   "cell_type": "code",
   "execution_count": 1,
   "metadata": {},
   "outputs": [],
   "source": [
    "import yaml"
   ]
  },
  {
   "cell_type": "code",
   "execution_count": 2,
   "metadata": {},
   "outputs": [],
   "source": [
    "config={}\n",
    "config['model']={}\n",
    "config['train']={}\n",
    "config['data']={}"
   ]
  },
  {
   "cell_type": "code",
   "execution_count": 3,
   "metadata": {},
   "outputs": [
    {
     "data": {
      "text/plain": [
       "{'model': {}, 'train': {}, 'data': {}}"
      ]
     },
     "execution_count": 3,
     "metadata": {},
     "output_type": "execute_result"
    }
   ],
   "source": [
    "config"
   ]
  },
  {
   "cell_type": "code",
   "execution_count": 4,
   "metadata": {},
   "outputs": [],
   "source": [
    "config['model']['resnet_version']=50\n",
    "config['model']['multilabel']=True\n",
    "config['model']['defect_types']=['agostado','envero',\n",
    "                                 'escudete','molestadograve',\n",
    "                                 'molestadoleve','negra_morada']\n",
    "config['model']['num_channels_input']=8\n"
   ]
  },
  {
   "cell_type": "code",
   "execution_count": 5,
   "metadata": {},
   "outputs": [],
   "source": [
    "config['train']['initial_model']=None\n",
    "config['train']['batch_size']=60\n",
    "config['train']['epochs']=50\n",
    "config['train']['learning_rate']=0.01\n",
    "config['train']['optimizer']='adam'\n",
    "config['train']['in_memory']= True\n",
    "config['train']['warmup']=3\n",
    "config['train']['unfreeze_epoch']=7\n",
    "config['train']['weights_decay']=0.001\n",
    "config['train']['mixup_alpha']=0.2\n",
    "config['train']['label_smoothing']=0.1\n",
    "config['train']['p_dropout']=0.5\n",
    "\n",
    "config['train']['output']={}\n",
    "config['train']['output']['path']='out_models'\n",
    "config['train']['output']['mdel_file']=' Olives_Multilabel_2022_2023_morada_negra.ckpt'\n",
    "\n",
    "config['train']['augmentation']={}\n",
    "\n"
   ]
  },
  {
   "cell_type": "code",
   "execution_count": 6,
   "metadata": {},
   "outputs": [],
   "source": [
    "config['train']['augmentation']['contrast']=0.1\n",
    "config['train']['augmentation']['brightness']=0.1\n",
    "config['train']['augmentation']['saturation']=0.1\n",
    "config['train']['augmentation']['hue']=0.1\n",
    "config['train']['random_rotation']=30\n",
    "config['train']['affine']={\n",
    "'shear':15, \n",
    "'scale':[0.7, 1.1],\n",
    "'translate':[0.15,0.15]\n",
    "}\n"
   ]
  },
  {
   "cell_type": "code",
   "execution_count": 7,
   "metadata": {},
   "outputs": [],
   "source": [
    "# Los elementos de la tupla del dataplace son:\n",
    "#  - carpeta con los jsons\n",
    "#  - lista de los jsons a emplear sin ruta. Se busca en la carpeta de los jsons\n",
    "#  - carpeta con las imágenes correspondientes\n",
    "\n",
    "config['data']['prob_train']=0.8 # Se emplea solo para dividir\n",
    "config['data']['train']=[\n",
    "    ['train_list.txt','season_2022/manzanilla/Season_oct_2022_set01_rev1/jsons',\n",
    "     'season_2022/manzanilla/Season_oct_2022_set01_rev1/images'],\n",
    "    ['train_list.txt','season_2023/ANOTADAS_IRENE/all/manzanilla/jsons',\n",
    "     'season_2023/ANOTADAS_IRENE/all/manzanilla/images']\n",
    "    ]\n",
    "config['data']['val']=[\n",
    "    ['val_list.txt','season_2022/manzanilla/Season_oct_2022_set01_rev1/jsons',\n",
    "     'season_2022/manzanilla/Season_oct_2022_set01_rev1/images'],\n",
    "    ['val_list.txt','season_2023/ANOTADAS_IRENE/all/manzanilla/jsons',\n",
    "     'season_2023/ANOTADAS_IRENE/all/manzanilla/images']\n",
    "    ]\n",
    "config['data']['root_folder']='mscanData/pngs_anotados/Smart4Olives/'\n",
    "config['data']['maxvalues']=[1024] # Si es uno es el mismo para todos los canales. Sino debe haber tantos como terminaciones\n",
    "config['data']['terminaciones']=['_r.png','_g.png','_b.png','_a.png','_nir.png','_nir1.png','_nir2.png','_nir4.png']\n",
    "config['data']['crop_size']=[120,120]\n",
    "config['data']['delimiter']='_'\n"
   ]
  },
  {
   "cell_type": "code",
   "execution_count": 8,
   "metadata": {},
   "outputs": [
    {
     "data": {
      "text/plain": [
       "{'model': {'resnet_version': 50,\n",
       "  'multilabel': True,\n",
       "  'defect_types': ['agostado',\n",
       "   'envero',\n",
       "   'escudete',\n",
       "   'molestadograve',\n",
       "   'molestadoleve',\n",
       "   'negra_morada'],\n",
       "  'num_channels_input': 8},\n",
       " 'train': {'initial_model': None,\n",
       "  'batch_size': 60,\n",
       "  'epochs': 50,\n",
       "  'learning_rate': 0.01,\n",
       "  'optimizer': 'adam',\n",
       "  'in_memory': True,\n",
       "  'warmup': 3,\n",
       "  'unfreeze_epoch': 7,\n",
       "  'weights_decay': 0.001,\n",
       "  'mixup_alpha': 0.2,\n",
       "  'label_smoothing': 0.1,\n",
       "  'p_dropout': 0.5,\n",
       "  'output': {'path': 'out_models',\n",
       "   'mdel_file': ' Olives_Multilabel_2022_2023_morada_negra.ckpt'},\n",
       "  'augmentation': {'contrast': 0.1,\n",
       "   'brightness': 0.1,\n",
       "   'saturation': 0.1,\n",
       "   'hue': 0.1},\n",
       "  'random_rotation': 30,\n",
       "  'affine': {'shear': 15, 'scale': [0.7, 1.1], 'translate': [0.15, 0.15]}},\n",
       " 'data': {'prob_train': 0.8,\n",
       "  'train': [['train_list.txt',\n",
       "    'season_2022/manzanilla/Season_oct_2022_set01_rev1/jsons',\n",
       "    'season_2022/manzanilla/Season_oct_2022_set01_rev1/images'],\n",
       "   ['train_list.txt',\n",
       "    'season_2023/ANOTADAS_IRENE/all/manzanilla/jsons',\n",
       "    'season_2023/ANOTADAS_IRENE/all/manzanilla/images']],\n",
       "  'val': [['val_list.txt',\n",
       "    'season_2022/manzanilla/Season_oct_2022_set01_rev1/jsons',\n",
       "    'season_2022/manzanilla/Season_oct_2022_set01_rev1/images'],\n",
       "   ['val_list.txt',\n",
       "    'season_2023/ANOTADAS_IRENE/all/manzanilla/jsons',\n",
       "    'season_2023/ANOTADAS_IRENE/all/manzanilla/images']],\n",
       "  'root_folder': 'mscanData/pngs_anotados/Smart4Olives/',\n",
       "  'maxvalues': [1024],\n",
       "  'terminaciones': ['_r.png',\n",
       "   '_g.png',\n",
       "   '_b.png',\n",
       "   '_a.png',\n",
       "   '_nir.png',\n",
       "   '_nir1.png',\n",
       "   '_nir2.png',\n",
       "   '_nir4.png'],\n",
       "  'crop_size': [120, 120],\n",
       "  'delimiter': '_'}}"
      ]
     },
     "execution_count": 8,
     "metadata": {},
     "output_type": "execute_result"
    }
   ],
   "source": [
    "config"
   ]
  },
  {
   "cell_type": "code",
   "execution_count": 9,
   "metadata": {},
   "outputs": [],
   "source": [
    "with open('config1.yaml', 'w') as file:\n",
    "    documents = yaml.dump(config, file)"
   ]
  },
  {
   "cell_type": "code",
   "execution_count": 10,
   "metadata": {},
   "outputs": [],
   "source": [
    "documents"
   ]
  },
  {
   "cell_type": "code",
   "execution_count": null,
   "metadata": {},
   "outputs": [],
   "source": []
  }
 ],
 "metadata": {
  "kernelspec": {
   "display_name": "mscandvc",
   "language": "python",
   "name": "python3"
  },
  "language_info": {
   "codemirror_mode": {
    "name": "ipython",
    "version": 3
   },
   "file_extension": ".py",
   "mimetype": "text/x-python",
   "name": "python",
   "nbconvert_exporter": "python",
   "pygments_lexer": "ipython3",
   "version": "3.12.0"
  }
 },
 "nbformat": 4,
 "nbformat_minor": 2
}
