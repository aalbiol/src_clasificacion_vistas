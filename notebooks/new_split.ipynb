{
 "cells": [
  {
   "cell_type": "code",
   "execution_count": 11,
   "metadata": {},
   "outputs": [],
   "source": [
    "from glob import glob\n",
    "import os\n",
    "import sys\n",
    "sys.path.append(\"../common\")\n",
    "import random\n",
    "\n",
    "from m_dataLoad_json import view_id, fruit_id\n"
   ]
  },
  {
   "cell_type": "code",
   "execution_count": 8,
   "metadata": {},
   "outputs": [],
   "source": [
    "directorio='../../dvc_olivas_clasificacion_vistas/data/2022/jsons'"
   ]
  },
  {
   "cell_type": "code",
   "execution_count": null,
   "metadata": {},
   "outputs": [],
   "source": [
    "def split_train_val(directorio,prob_train=0.8,delimiter='_'):\n",
    "    patron=os.path.join(directorio,'*.json')\n",
    "    files = glob(patron)\n",
    "    \n",
    "    files=[os.path.basename(f) for f in files]\n",
    "    \n",
    "    print(f'Num json files: {len(files)}')\n",
    "    fruit_ids = [fruit_id(f,delimiter) for f in files]\n",
    "    fruit_ids=list(set(fruit_ids))\n",
    "    random.shuffle(fruit_ids)\n",
    "    \n",
    "    n = len(fruit_ids)\n",
    "    print(f'Num Fruid Ids:{n}')\n",
    "    train_ids = fruit_ids[:int(n*prob_train)]\n",
    "    \n",
    "    \n",
    "    train_files = []\n",
    "    val_files = []\n",
    "    for f in files :\n",
    "        if fruit_id(f,delimiter) in train_ids:\n",
    "            train_files.append(f)\n",
    "        else:\n",
    "            val_files.append(f)\n",
    "    \n",
    "    \n",
    "    train_files.sort()\n",
    "    val_files.sort()\n",
    "    return train_files,val_files\n",
    "\n",
    "def create_train_val_lists(directorio,prob_train=0.8,delimiter='_', train_list_name=None,val_list_name=None):\n",
    "    '''\n",
    "    recibe un directorio o lista de directorios con jsons y crea dos listas de ficheros de entrenamiento y validación\n",
    "    separando por fruit_id\n",
    "    '''\n",
    "    \n",
    "    assert train_list_name is not None, \"Train list name is None\"\n",
    "    assert val_list_name is not None, \"Val list name is None\"\n",
    "    \n",
    "    if not isinstance(directorio,list):\n",
    "        t,v=split_train_val(directorio,prob_train,delimiter)\n",
    "        nombre_t=os.path.join(directorio,train_list_name)\n",
    "        nombre_v=os.path.join(directorio,val_list_name)\n",
    "        with open(nombre_t, 'w') as fp:\n",
    "            for item in t:\n",
    "                fp.write(\"%s\\n\" % item)\n",
    "        print(f\"Train list saved in {nombre_t}\")\n",
    "        with open(nombre_v, 'w') as fp:\n",
    "            for item in v:\n",
    "                fp.write(\"%s\\n\" % item)            \n",
    "        print(f\"Val list saved in {nombre_v}\")\n",
    "    else:\n",
    "        for d in directorio:\n",
    "            create_train_val_lists(d,prob_train,delimiter,train_list_name,val_list_name)\n",
    "    \n",
    "\n",
    "\n",
    "    "
   ]
  },
  {
   "cell_type": "code",
   "execution_count": 61,
   "metadata": {},
   "outputs": [
    {
     "name": "stdout",
     "output_type": "stream",
     "text": [
      "Num json files: 7357\n",
      "Num Fruid Ids:1891\n",
      "3625 3732\n"
     ]
    }
   ],
   "source": [
    "t,v=split_train_val(directorio,prob_train=0.5)\n",
    "print(len(t),len(v))    "
   ]
  },
  {
   "cell_type": "code",
   "execution_count": 62,
   "metadata": {},
   "outputs": [
    {
     "name": "stdout",
     "output_type": "stream",
     "text": [
      "Num json files: 7357\n",
      "Num Fruid Ids:1891\n",
      "Train list saved in ../../dvc_olivas_clasificacion_vistas/data/2022/jsons/train_list.txt\n",
      "Val list saved in ../../dvc_olivas_clasificacion_vistas/data/2022/jsons/val_list.txt\n"
     ]
    }
   ],
   "source": [
    "create_train_val_lists(directorio,train_list_name='train_list.txt',val_list_name='val_list.txt')"
   ]
  },
  {
   "cell_type": "code",
   "execution_count": 63,
   "metadata": {},
   "outputs": [
    {
     "name": "stdout",
     "output_type": "stream",
     "text": [
      "Num json files: 7357\n",
      "Num Fruid Ids:1891\n",
      "Train list saved in ../../dvc_olivas_clasificacion_vistas/data/2022/jsons/train_list.txt\n",
      "Val list saved in ../../dvc_olivas_clasificacion_vistas/data/2022/jsons/val_list.txt\n",
      "Num json files: 4257\n",
      "Num Fruid Ids:844\n",
      "Train list saved in ../../dvc_olivas_clasificacion_vistas/data/2023/jsons/train_list.txt\n",
      "Val list saved in ../../dvc_olivas_clasificacion_vistas/data/2023/jsons/val_list.txt\n"
     ]
    }
   ],
   "source": [
    "directorios=['../../dvc_olivas_clasificacion_vistas/data/2022/jsons','../../dvc_olivas_clasificacion_vistas/data/2023/jsons'] \n",
    "\n",
    "create_train_val_lists(directorios,train_list_name='train_list.txt',val_list_name='val_list.txt')"
   ]
  },
  {
   "cell_type": "code",
   "execution_count": null,
   "metadata": {},
   "outputs": [],
   "source": [
    "isinstance"
   ]
  }
 ],
 "metadata": {
  "kernelspec": {
   "display_name": "mscandvc",
   "language": "python",
   "name": "python3"
  },
  "language_info": {
   "codemirror_mode": {
    "name": "ipython",
    "version": 3
   },
   "file_extension": ".py",
   "mimetype": "text/x-python",
   "name": "python",
   "nbconvert_exporter": "python",
   "pygments_lexer": "ipython3",
   "version": "3.12.0"
  }
 },
 "nbformat": 4,
 "nbformat_minor": 2
}
