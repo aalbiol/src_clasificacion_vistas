{
 "cells": [
  {
   "cell_type": "code",
   "execution_count": 11,
   "metadata": {},
   "outputs": [],
   "source": [
    "from glob import glob\n",
    "import os\n",
    "import sys\n",
    "sys.path.append(\"../common\")\n",
    "import random\n",
    "\n",
    "from m_dataLoad_json import view_id, fruit_id\n"
   ]
  },
  {
   "cell_type": "code",
   "execution_count": 8,
   "metadata": {},
   "outputs": [],
   "source": [
    "directorio='../../dvc_olivas_clasificacion_vistas/data/2022/jsons'"
   ]
  },
  {
   "cell_type": "code",
   "execution_count": null,
   "metadata": {},
   "outputs": [],
   "source": [
    "def split_train_val(directorio,prob_train=0.8,delimiter='_'):\n",
    "    patron=os.path.join(directorio,'*.json')\n",
    "    files = glob(patron)\n",
    "    \n",
    "    files=[os.path.basename(f) for f in files]\n",
    "    \n",
    "    print(f'Num json files: {len(files)}')\n",
    "    fruit_ids = [fruit_id(f,delimiter) for f in files]\n",
    "    fruit_ids=list(set(fruit_ids))\n",
    "    random.shuffle(fruit_ids)\n",
    "    \n",
    "    n = len(fruit_ids)\n",
    "    print(f'Num Fruid Ids:{n}')\n",
    "    train_ids = fruit_ids[:int(n*prob_train)]\n",
    "    \n",
    "    \n",
    "    train_files = []\n",
    "    val_files = []\n",
    "    for f in files :\n",
    "        if fruit_id(f,delimiter) in train_ids:\n",
    "            train_files.append(f)\n",
    "        else:\n",
    "            val_files.append(f)\n",
    "    \n",
    "    \n",
    "    train_files.sort()\n",
    "    val_files.sort()\n",
    "    return train_files,val_files\n",
    "\n",
    "def create_train_val_lists(directorio,prob_train=0.8,delimiter='_', train_list_name=None,val_list_name=None):\n",
    "    \n",
    "    assert train_list_name is not None, \"Train list name is None\"\n",
    "    assert val_list_name is not None, \"Val list name is None\"\n",
    "    \n",
    "    if not isinstance(directorio,list):\n",
    "        t,v=split_train_val(directorio,prob_train,delimiter)\n",
    "        nombre_t=os.path.join(directorio,train_list_name)\n",
    "        nombre_v=os.path.join(directorio,val_list_name)\n",
    "        with open(nombre_t, 'w') as fp:\n",
    "            for item in t:\n",
    "                fp.write(\"%s\\n\" % item)\n",
    "        print(f\"Train list saved in {nombre_t}\")\n",
    "        with open(nombre_v, 'w') as fp:\n",
    "            for item in v:\n",
    "                fp.write(\"%s\\n\" % item)            \n",
    "        print(f\"Val list saved in {nombre_v}\")\n",
    "    else:\n",
    "        for d in directorio:\n",
    "            create_train_val_lists(d,prob_train,delimiter,train_list_name,val_list_name)\n",
    "    \n",
    "\n",
    "\n",
    "    "
   ]
  },
  {
   "cell_type": "code",
   "execution_count": 55,
   "metadata": {},
   "outputs": [
    {
     "name": "stdout",
     "output_type": "stream",
     "text": [
      "Num json files: 7357\n",
      "Num Fruid Ids:1891\n",
      "3624 3733\n"
     ]
    }
   ],
   "source": [
    "t,v=split_train_val(directorio,prob_train=0.5)\n",
    "print(len(t),len(v))    "
   ]
  },
  {
   "cell_type": "code",
   "execution_count": 58,
   "metadata": {},
   "outputs": [
    {
     "name": "stdout",
     "output_type": "stream",
     "text": [
      "Num json files: 7357\n",
      "Num Fruid Ids:1891\n",
      "Train list saved in ../../dvc_olivas_clasificacion_vistas/data/2022/jsons/train_list.txt\n",
      "Val list saved in ../../dvc_olivas_clasificacion_vistas/data/2022/jsons/val_list.txt\n"
     ]
    }
   ],
   "source": [
    "create_train_val_lists(directorio,train_list_name='train_list.txt',val_list_name='val_list.txt')"
   ]
  },
  {
   "cell_type": "code",
   "execution_count": 59,
   "metadata": {},
   "outputs": [
    {
     "ename": "TypeError",
     "evalue": "expected str, bytes or os.PathLike object, not list",
     "output_type": "error",
     "traceback": [
      "\u001b[0;31m---------------------------------------------------------------------------\u001b[0m",
      "\u001b[0;31mTypeError\u001b[0m                                 Traceback (most recent call last)",
      "Cell \u001b[0;32mIn[59], line 3\u001b[0m\n\u001b[1;32m      1\u001b[0m directorios\u001b[38;5;241m=\u001b[39m[\u001b[38;5;124m'\u001b[39m\u001b[38;5;124m../../dvc_olivas_clasificacion_vistas/data/2022/jsons\u001b[39m\u001b[38;5;124m'\u001b[39m,\u001b[38;5;124m'\u001b[39m\u001b[38;5;124m../../dvc_olivas_clasificacion_vistas/data/2023/jsons\u001b[39m\u001b[38;5;124m'\u001b[39m] \n\u001b[0;32m----> 3\u001b[0m \u001b[43mcreate_train_val_lists\u001b[49m\u001b[43m(\u001b[49m\u001b[43mdirectorios\u001b[49m\u001b[43m,\u001b[49m\u001b[43mtrain_list_name\u001b[49m\u001b[38;5;241;43m=\u001b[39;49m\u001b[38;5;124;43m'\u001b[39;49m\u001b[38;5;124;43mtrain_list.txt\u001b[39;49m\u001b[38;5;124;43m'\u001b[39;49m\u001b[43m,\u001b[49m\u001b[43mval_list_name\u001b[49m\u001b[38;5;241;43m=\u001b[39;49m\u001b[38;5;124;43m'\u001b[39;49m\u001b[38;5;124;43mval_list.txt\u001b[39;49m\u001b[38;5;124;43m'\u001b[39;49m\u001b[43m)\u001b[49m\n",
      "Cell \u001b[0;32mIn[57], line 36\u001b[0m, in \u001b[0;36mcreate_train_val_lists\u001b[0;34m(directorio, prob_train, delimiter, train_list_name, val_list_name)\u001b[0m\n\u001b[1;32m     33\u001b[0m \u001b[38;5;28;01massert\u001b[39;00m val_list_name \u001b[38;5;129;01mis\u001b[39;00m \u001b[38;5;129;01mnot\u001b[39;00m \u001b[38;5;28;01mNone\u001b[39;00m, \u001b[38;5;124m\"\u001b[39m\u001b[38;5;124mVal list name is None\u001b[39m\u001b[38;5;124m\"\u001b[39m\n\u001b[1;32m     35\u001b[0m \u001b[38;5;28;01mif\u001b[39;00m directorio \u001b[38;5;129;01mis\u001b[39;00m \u001b[38;5;129;01mnot\u001b[39;00m \u001b[38;5;28mlist\u001b[39m:\n\u001b[0;32m---> 36\u001b[0m     t,v\u001b[38;5;241m=\u001b[39m\u001b[43msplit_train_val\u001b[49m\u001b[43m(\u001b[49m\u001b[43mdirectorio\u001b[49m\u001b[43m,\u001b[49m\u001b[43mprob_train\u001b[49m\u001b[43m,\u001b[49m\u001b[43mdelimiter\u001b[49m\u001b[43m)\u001b[49m\n\u001b[1;32m     37\u001b[0m     nombre_t\u001b[38;5;241m=\u001b[39mos\u001b[38;5;241m.\u001b[39mpath\u001b[38;5;241m.\u001b[39mjoin(directorio,train_list_name)\n\u001b[1;32m     38\u001b[0m     nombre_v\u001b[38;5;241m=\u001b[39mos\u001b[38;5;241m.\u001b[39mpath\u001b[38;5;241m.\u001b[39mjoin(directorio,val_list_name)\n",
      "Cell \u001b[0;32mIn[57], line 2\u001b[0m, in \u001b[0;36msplit_train_val\u001b[0;34m(directorio, prob_train, delimiter)\u001b[0m\n\u001b[1;32m      1\u001b[0m \u001b[38;5;28;01mdef\u001b[39;00m \u001b[38;5;21msplit_train_val\u001b[39m(directorio,prob_train\u001b[38;5;241m=\u001b[39m\u001b[38;5;241m0.8\u001b[39m,delimiter\u001b[38;5;241m=\u001b[39m\u001b[38;5;124m'\u001b[39m\u001b[38;5;124m_\u001b[39m\u001b[38;5;124m'\u001b[39m):\n\u001b[0;32m----> 2\u001b[0m     patron\u001b[38;5;241m=\u001b[39m\u001b[43mos\u001b[49m\u001b[38;5;241;43m.\u001b[39;49m\u001b[43mpath\u001b[49m\u001b[38;5;241;43m.\u001b[39;49m\u001b[43mjoin\u001b[49m\u001b[43m(\u001b[49m\u001b[43mdirectorio\u001b[49m\u001b[43m,\u001b[49m\u001b[38;5;124;43m'\u001b[39;49m\u001b[38;5;124;43m*.json\u001b[39;49m\u001b[38;5;124;43m'\u001b[39;49m\u001b[43m)\u001b[49m\n\u001b[1;32m      3\u001b[0m     files \u001b[38;5;241m=\u001b[39m glob(patron)\n\u001b[1;32m      5\u001b[0m     files\u001b[38;5;241m=\u001b[39m[os\u001b[38;5;241m.\u001b[39mpath\u001b[38;5;241m.\u001b[39mbasename(f) \u001b[38;5;28;01mfor\u001b[39;00m f \u001b[38;5;129;01min\u001b[39;00m files]\n",
      "File \u001b[0;32m<frozen posixpath>:76\u001b[0m, in \u001b[0;36mjoin\u001b[0;34m(a, *p)\u001b[0m\n",
      "\u001b[0;31mTypeError\u001b[0m: expected str, bytes or os.PathLike object, not list"
     ]
    }
   ],
   "source": [
    "directorios=['../../dvc_olivas_clasificacion_vistas/data/2022/jsons','../../dvc_olivas_clasificacion_vistas/data/2023/jsons'] \n",
    "\n",
    "create_train_val_lists(directorios,train_list_name='train_list.txt',val_list_name='val_list.txt')"
   ]
  },
  {
   "cell_type": "code",
   "execution_count": null,
   "metadata": {},
   "outputs": [],
   "source": [
    "isinstance"
   ]
  }
 ],
 "metadata": {
  "kernelspec": {
   "display_name": "mscandvc",
   "language": "python",
   "name": "python3"
  },
  "language_info": {
   "codemirror_mode": {
    "name": "ipython",
    "version": 3
   },
   "file_extension": ".py",
   "mimetype": "text/x-python",
   "name": "python",
   "nbconvert_exporter": "python",
   "pygments_lexer": "ipython3",
   "version": "3.12.0"
  }
 },
 "nbformat": 4,
 "nbformat_minor": 2
}
